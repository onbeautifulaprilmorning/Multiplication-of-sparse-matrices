{
  "nbformat": 4,
  "nbformat_minor": 0,
  "metadata": {
    "colab": {
      "name": "두 희소 행렬의 곱셈.ipynb",
      "version": "0.3.2",
      "provenance": []
    },
    "kernelspec": {
      "name": "python3",
      "display_name": "Python 3"
    }
  },
  "cells": [
    {
      "metadata": {
        "id": "-WeWF2e9tuYa",
        "colab_type": "code",
        "colab": {}
      },
      "cell_type": "code",
      "source": [
        "def matrix_multiplication(a, b):\n",
        "  if a.shape()[1] != b.shape()[0]:\n",
        "    print(\"두 행렬을 곱할 수 없습니다.\")\n",
        "  else:\n",
        "    c = SparseMatrix(a.shape()[0], b.shape()[1])\n",
        "    u = []\n",
        "    for i in range(1, len(a.s)):\n",
        "      for j in range(1, len(b.s)):\n",
        "        if a.s[i][1] == b.s[j][0]:\n",
        "          _tmp = a.s[i][2] * b.s[j][2]\n",
        "          if [a.s[i][0], b.s[j][1]] not in u:\n",
        "            u.append([a.s[i][0], b.s[j][1]])\n",
        "            c.append(a.s[i][0], b.s[j][1], _tmp)\n",
        "          else:\n",
        "            for k in range(len(c.s)):\n",
        "              if c.s[k][0] == a.s[i][0] and c.s[k][1] == b.s[j][1]:\n",
        "                c.s[k][2] += _tmp       \n",
        "    c.print()\n",
        "      \n",
        "    "
      ],
      "execution_count": 0,
      "outputs": []
    },
    {
      "metadata": {
        "id": "sTGyKc8f6lji",
        "colab_type": "code",
        "colab": {
          "base_uri": "https://localhost:8080/",
          "height": 52
        },
        "outputId": "f03d9575-b26a-45de-ea87-b74420df9a5c"
      },
      "cell_type": "code",
      "source": [
        "a = SparseMatrix(2,1)\n",
        "b = SparseMatrix(1,2)\n",
        "\n",
        "a.append(1,1,1)\n",
        "a.append(2,1,3)\n",
        "a.append(1,2,2)\n",
        "a.append(2,2,4)\n",
        "b.append(1,1,5)\n",
        "b.append(1,2,6)\n",
        "b.append(2,1,7)\n",
        "b.append(2,2,8)\n",
        "\n",
        "\n",
        "\n",
        "matrix_multiplication(a, b)\n",
        "\n"
      ],
      "execution_count": 38,
      "outputs": [
        {
          "output_type": "stream",
          "text": [
            "[[19. 22.]\n",
            " [43. 50.]]\n"
          ],
          "name": "stdout"
        }
      ]
    },
    {
      "metadata": {
        "id": "XVv2xZ4h_uQ5",
        "colab_type": "code",
        "colab": {}
      },
      "cell_type": "code",
      "source": [
        ""
      ],
      "execution_count": 0,
      "outputs": []
    }
  ]
}